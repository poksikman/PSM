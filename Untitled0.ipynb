{
  "nbformat": 4,
  "nbformat_minor": 0,
  "metadata": {
    "colab": {
      "name": "Untitled0.ipynb",
      "provenance": [],
      "mount_file_id": "1r9zzn-fk7B5-tqA8hO87wkDg7Zfi2aug",
      "authorship_tag": "ABX9TyMt6RvXcqvWEhkiy5UzVdeA",
      "include_colab_link": true
    },
    "kernelspec": {
      "name": "python3",
      "display_name": "Python 3"
    },
    "language_info": {
      "name": "python"
    }
  },
  "cells": [
    {
      "cell_type": "markdown",
      "metadata": {
        "id": "view-in-github",
        "colab_type": "text"
      },
      "source": [
        "<a href=\"https://colab.research.google.com/github/poksikman/PSM/blob/master/Untitled0.ipynb\" target=\"_parent\"><img src=\"https://colab.research.google.com/assets/colab-badge.svg\" alt=\"Open In Colab\"/></a>"
      ]
    },
    {
      "cell_type": "code",
      "metadata": {
        "colab": {
          "base_uri": "https://localhost:8080/"
        },
        "id": "u8BlPGJvLSxs",
        "outputId": "f2ae4936-0393-4d0d-d805-46e7e0f2265f"
      },
      "source": [
        "!wget https://zenodo.org/record/3338373/files/musdb18hq.zip?download=1"
      ],
      "execution_count": 2,
      "outputs": [
        {
          "output_type": "stream",
          "text": [
            "--2021-05-04 04:30:22--  https://zenodo.org/record/3338373/files/musdb18hq.zip?download=1\n",
            "Resolving zenodo.org (zenodo.org)... 137.138.76.77\n",
            "Connecting to zenodo.org (zenodo.org)|137.138.76.77|:443... connected.\n",
            "HTTP request sent, awaiting response... 200 OK\n",
            "Length: 22656664047 (21G) [application/octet-stream]\n",
            "Saving to: ‘musdb18hq.zip?download=1’\n",
            "\n",
            "musdb18hq.zip?downl 100%[===================>]  21.10G  22.2MB/s    in 27m 38s \n",
            "\n",
            "2021-05-04 04:58:02 (13.0 MB/s) - ‘musdb18hq.zip?download=1’ saved [22656664047/22656664047]\n",
            "\n"
          ],
          "name": "stdout"
        }
      ]
    },
    {
      "cell_type": "code",
      "metadata": {
        "id": "bgUCoWHDLizt",
        "colab": {
          "base_uri": "https://localhost:8080/"
        },
        "outputId": "c0da16a8-e08f-4ccd-ba6f-5678023e96fc"
      },
      "source": [
        "ls"
      ],
      "execution_count": 3,
      "outputs": [
        {
          "output_type": "stream",
          "text": [
            " \u001b[0m\u001b[01;34mdrive\u001b[0m/  'musdb18hq.zip?download=1'   \u001b[01;34msample_data\u001b[0m/\n"
          ],
          "name": "stdout"
        }
      ]
    },
    {
      "cell_type": "code",
      "metadata": {
        "id": "2T4QtnaEo1dZ"
      },
      "source": [
        ""
      ],
      "execution_count": null,
      "outputs": []
    }
  ]
}